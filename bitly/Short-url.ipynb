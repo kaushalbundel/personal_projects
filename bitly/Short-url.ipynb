{
 "cells": [
  {
   "attachments": {},
   "cell_type": "markdown",
   "metadata": {},
   "source": [
    "# Bitly in Python\n",
    "\n",
    "1. Bitly consists of two parts. The bitly part and the short code associated with bitly\n",
    "eg. https://t.ly/QbMq is the shortned url for google.com\n",
    "here the QbMq part is the encoding and the rest of the link \"https://t.ly\" is the service provider\n",
    "2. The shortened part gets stored in the service provider's database. Whenever the shortened url is entered, the web browser goes to the shortened url companies database and queries with the encoding part. The company maintains the record of the encoded part with the details of the entity that has requested short url (If the company is collecting all such information) along with the original url in un-encoded form. \n",
    "3. The http request is then sent from that server to the original website. Thus rendering the website in the server.\n",
    "\n",
    "What could be the problems with such transaction?\n",
    "- A lot of analytics is done currently to track the demography of the vistors. So in case bitly or any other link shortner is used, which url will be tracked? The bitly one or the original intended url?\n",
    "To solve this problem the link is send through HTTP request 302 is used"
   ]
  },
  {
   "attachments": {},
   "cell_type": "markdown",
   "metadata": {},
   "source": [
    "# Implementation"
   ]
  },
  {
   "attachments": {},
   "cell_type": "markdown",
   "metadata": {},
   "source": [
    "### Steps to replicate\n",
    "\n",
    "1. Create a function that takes a string (web url) and does some kind of encoding/hashing so that the a short unique key for that specific website can be produced.\n",
    "2. Create a dictionary where the encoding is stored as a key value pair\n",
    "3. Create a function that extracts the value of the encoded key\n",
    "\n",
    "\n",
    "### Further activity\n",
    "\n",
    "1. A command line based python based password storage that stores encoded data on the basis of a secret key\n"
   ]
  },
  {
   "cell_type": "markdown",
   "metadata": {},
   "source": []
  }
 ],
 "metadata": {
  "kernelspec": {
   "display_name": "Python 3",
   "language": "python",
   "name": "python3"
  },
  "language_info": {
   "codemirror_mode": {
    "name": "ipython",
    "version": 3
   },
   "file_extension": ".py",
   "mimetype": "text/x-python",
   "name": "python",
   "nbconvert_exporter": "python",
   "pygments_lexer": "ipython3",
   "version": "3.11.0"
  },
  "orig_nbformat": 4
 },
 "nbformat": 4,
 "nbformat_minor": 2
}
