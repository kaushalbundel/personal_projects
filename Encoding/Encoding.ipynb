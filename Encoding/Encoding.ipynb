{
 "cells": [
  {
   "attachments": {},
   "cell_type": "markdown",
   "metadata": {},
   "source": [
    "# Encoding"
   ]
  },
  {
   "cell_type": "code",
   "execution_count": 23,
   "metadata": {},
   "outputs": [],
   "source": [
    "#creating a simple encoding function\n",
    "\n",
    "def encoding_using_encode(text: str, encoding_type:str):\n",
    "    '''\n",
    "    \n",
    "    Function inputs a text and the encoding type (possible values can be utf-8, utf 16 and so on) and \n",
    "    returns an encoded string of numbers\n",
    "\n",
    "    Seq of conversions: str -> bytes -> hex (str)\n",
    "    '''\n",
    "    encoded_text = text.encode(encoding_type, errors=\"strict\")\n",
    "    encoded_hex = encoded_text.hex()\n",
    "    return encoded_hex"
   ]
  },
  {
   "cell_type": "code",
   "execution_count": 46,
   "metadata": {},
   "outputs": [],
   "source": [
    "def decoding_using_decode(encoded_hex_string, encoding_type: str):\n",
    "    '''\n",
    "    Converting to an encoded hex string object back to the string object.mro\n",
    "    Conversions: hex (str) -> Bytes -> string\n",
    "    '''\n",
    "    hex_encoding_to_bytes =  bytes.fromhex(encoded_hex_string)\n",
    "    bytes_to_string =  hex_encoding_to_bytes.decode(encoding_type)\n",
    "    return bytes_to_string"
   ]
  },
  {
   "cell_type": "code",
   "execution_count": 44,
   "metadata": {},
   "outputs": [
    {
     "name": "stdout",
     "output_type": "stream",
     "text": [
      "7777772e676f6f676c652e636f6d\n"
     ]
    }
   ],
   "source": [
    "# encoding to a hex string\n",
    "\n",
    "test_text= encoding_using_encode(\"www.google.com\", encoding_type=\"utf8\")\n",
    "print(test_text)"
   ]
  },
  {
   "cell_type": "code",
   "execution_count": 47,
   "metadata": {},
   "outputs": [
    {
     "data": {
      "text/plain": [
       "'www.google.com'"
      ]
     },
     "execution_count": 47,
     "metadata": {},
     "output_type": "execute_result"
    }
   ],
   "source": [
    "# decoding to the original string\n",
    "\n",
    "decoding_using_decode(test_text, \"utf8\") "
   ]
  },
  {
   "cell_type": "code",
   "execution_count": 51,
   "metadata": {},
   "outputs": [
    {
     "data": {
      "text/plain": [
       "'7777772e676f6f676c652e636f6d'"
      ]
     },
     "execution_count": 51,
     "metadata": {},
     "output_type": "execute_result"
    }
   ],
   "source": [
    "# Play around\n",
    "\n",
    "encoding_using_encode(\"www.google.com\", \"Windows-1250\")\n",
    "\n"
   ]
  },
  {
   "cell_type": "code",
   "execution_count": 52,
   "metadata": {},
   "outputs": [
    {
     "data": {
      "text/plain": [
       "'7777772e676f6f676c652e636f6d'"
      ]
     },
     "execution_count": 52,
     "metadata": {},
     "output_type": "execute_result"
    }
   ],
   "source": [
    "encoding_using_encode(\"www.google.com\", \"utf8\")"
   ]
  },
  {
   "cell_type": "code",
   "execution_count": 53,
   "metadata": {},
   "outputs": [
    {
     "data": {
      "text/plain": [
       "'fffe7700770077002e0067006f006f0067006c0065002e0063006f006d00'"
      ]
     },
     "execution_count": 53,
     "metadata": {},
     "output_type": "execute_result"
    }
   ],
   "source": [
    "encoding_using_encode(\"www.google.com\", \"utf16\")"
   ]
  },
  {
   "cell_type": "code",
   "execution_count": 55,
   "metadata": {},
   "outputs": [
    {
     "data": {
      "text/plain": [
       "76"
      ]
     },
     "execution_count": 55,
     "metadata": {},
     "output_type": "execute_result"
    }
   ],
   "source": [
    "# Problems \n",
    "\n",
    "len(encoding_using_encode(\"The length of the string is very large\", \"utf8\"))"
   ]
  },
  {
   "cell_type": "code",
   "execution_count": 56,
   "metadata": {},
   "outputs": [
    {
     "data": {
      "text/plain": [
       "24"
      ]
     },
     "execution_count": 56,
     "metadata": {},
     "output_type": "execute_result"
    }
   ],
   "source": [
    "len(encoding_using_encode(\"small string\", \"utf8\"))"
   ]
  },
  {
   "attachments": {},
   "cell_type": "markdown",
   "metadata": {},
   "source": [
    "The problem with the type of method employed is that as the length of the string increased the length of the string also increases. Hence we should be able to find out some other encoding method that is able to keep the length of the string to a minimum."
   ]
  },
  {
   "attachments": {},
   "cell_type": "markdown",
   "metadata": {},
   "source": [
    "Next Steps:\n",
    "\n",
    "1. Use other encoding methods and see if the length of the string can be controlled."
   ]
  },
  {
   "attachments": {},
   "cell_type": "markdown",
   "metadata": {},
   "source": [
    "# Useful Links\n",
    "\n",
    "1. https://stackoverflow.com/questions/1497504/how-to-make-unique-short-url-with-python\n",
    "2. https://docs.python.org/3/library/hashlib.html\n",
    "3. https://www.pythonforbeginners.com/basics/bytes-in-python"
   ]
  },
  {
   "cell_type": "markdown",
   "metadata": {},
   "source": []
  }
 ],
 "metadata": {
  "kernelspec": {
   "display_name": "Python 3",
   "language": "python",
   "name": "python3"
  },
  "language_info": {
   "codemirror_mode": {
    "name": "ipython",
    "version": 3
   },
   "file_extension": ".py",
   "mimetype": "text/x-python",
   "name": "python",
   "nbconvert_exporter": "python",
   "pygments_lexer": "ipython3",
   "version": "3.9.6"
  },
  "orig_nbformat": 4
 },
 "nbformat": 4,
 "nbformat_minor": 2
}
